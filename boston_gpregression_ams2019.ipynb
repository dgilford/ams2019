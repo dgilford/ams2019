{
 "cells": [
  {
   "cell_type": "markdown",
   "metadata": {},
   "source": [
    "# Goal"
   ]
  },
  {
   "cell_type": "markdown",
   "metadata": {},
   "source": [
    "We draw in Boston tide-gauge data and apply a Gaussian Process regression to isolate the long-term trend, seasonal cycle, and other modes of variability.\n",
    "More info on the Boston Tide Gauge Station is found at: https://tidesandcurrents.noaa.gov/stationhome.html?id=8443970.\n",
    "\n",
    "Note that the tide gauge data is on the MLLW datum."
   ]
  },
  {
   "cell_type": "markdown",
   "metadata": {},
   "source": [
    "# Setup"
   ]
  },
  {
   "cell_type": "code",
   "execution_count": 1,
   "metadata": {},
   "outputs": [],
   "source": [
    "# import the packages we need for analysis\n",
    "import numpy as np\n",
    "import pandas as pd\n",
    "import matplotlib.pyplot as plt\n",
    "import time\n",
    "import pickle\n",
    "import os\n",
    "from datetime import date\n",
    "\n",
    "# import what we need to check the files\n",
    "from os import listdir\n",
    "from os.path import isfile, join\n",
    "\n",
    "# get the data read function\n",
    "from tide_gauge_utilities import read_noaa_stn_data\n",
    "\n",
    "# set up graphics\n",
    "plt.set_cmap('viridis')"
   ]
  },
  {
   "cell_type": "code",
   "execution_count": 2,
   "metadata": {},
   "outputs": [],
   "source": [
    "# import the GPflow package\n",
    "import gpflow\n",
    "from gp_utilities import normalize, train_data_fit, denormalize\n",
    "from datetime import datetime"
   ]
  },
  {
   "cell_type": "code",
   "execution_count": 3,
   "metadata": {},
   "outputs": [],
   "source": [
    "# define the data path\n",
    "data_path='./sweet_data/raw/'\n",
    "\n",
    "# get the files in the path\n",
    "filenames = [f for f in listdir(data_path) if isfile(join(data_path, f))]\n",
    "nfiles=len(filenames)\n",
    "\n",
    "# scrape the stn ids\n",
    "stnids = [s[:7] for s in filenames]"
   ]
  },
  {
   "cell_type": "markdown",
   "metadata": {},
   "source": [
    "### Load in Metadata"
   ]
  },
  {
   "cell_type": "code",
   "execution_count": 4,
   "metadata": {},
   "outputs": [],
   "source": [
    "# define the metadata path\n",
    "md_path='./sweet_data/metadata/metadata_df.pk1'\n",
    "# read metadata in\n",
    "metadata = pd.read_pickle(md_path)\n",
    "\n",
    "# define the location of the date/time dataframe\n",
    "dtime_loc='./sweet_data/metadata/standard_dtime.pk1'"
   ]
  },
  {
   "cell_type": "markdown",
   "metadata": {},
   "source": [
    "### Isolate Boston Data"
   ]
  },
  {
   "cell_type": "code",
   "execution_count": 5,
   "metadata": {},
   "outputs": [
    {
     "name": "stderr",
     "output_type": "stream",
     "text": [
      "/opt/sw/packages/gcc-4.8/python/3.5.2/lib/python3.5/site-packages/IPython/core/interactiveshell.py:2821: DtypeWarning: Columns (2,4) have mixed types. Specify dtype option on import or set low_memory=False.\n",
      "  if self.run_code(code, result):\n"
     ]
    }
   ],
   "source": [
    "# define the boston stnid\n",
    "boston_id='8443970'\n",
    "# get its index\n",
    "s_want=stnids.index(boston_id)\n",
    "# load the boston data\n",
    "df_boston=read_noaa_stn_data(data_path+filenames[s_want],dtime_loc)"
   ]
  },
  {
   "cell_type": "markdown",
   "metadata": {},
   "source": [
    "Let's look at this dataset in pandas array format:"
   ]
  },
  {
   "cell_type": "code",
   "execution_count": 6,
   "metadata": {},
   "outputs": [
    {
     "data": {
      "text/html": [
       "<div>\n",
       "<style>\n",
       "    .dataframe thead tr:only-child th {\n",
       "        text-align: right;\n",
       "    }\n",
       "\n",
       "    .dataframe thead th {\n",
       "        text-align: left;\n",
       "    }\n",
       "\n",
       "    .dataframe tbody tr th {\n",
       "        vertical-align: top;\n",
       "    }\n",
       "</style>\n",
       "<table border=\"1\" class=\"dataframe\">\n",
       "  <thead>\n",
       "    <tr style=\"text-align: right;\">\n",
       "      <th></th>\n",
       "      <th>stn_id</th>\n",
       "      <th>observed</th>\n",
       "      <th>predicted</th>\n",
       "      <th>residual</th>\n",
       "    </tr>\n",
       "    <tr>\n",
       "      <th>dtime</th>\n",
       "      <th></th>\n",
       "      <th></th>\n",
       "      <th></th>\n",
       "      <th></th>\n",
       "    </tr>\n",
       "  </thead>\n",
       "  <tbody>\n",
       "    <tr>\n",
       "      <th>1901-01-01 00:00:00</th>\n",
       "      <td>8443970</td>\n",
       "      <td>NaN</td>\n",
       "      <td>2.845</td>\n",
       "      <td>NaN</td>\n",
       "    </tr>\n",
       "    <tr>\n",
       "      <th>1901-01-01 01:00:00</th>\n",
       "      <td>8443970</td>\n",
       "      <td>NaN</td>\n",
       "      <td>2.689</td>\n",
       "      <td>NaN</td>\n",
       "    </tr>\n",
       "    <tr>\n",
       "      <th>1901-01-01 02:00:00</th>\n",
       "      <td>8443970</td>\n",
       "      <td>NaN</td>\n",
       "      <td>2.256</td>\n",
       "      <td>NaN</td>\n",
       "    </tr>\n",
       "    <tr>\n",
       "      <th>1901-01-01 03:00:00</th>\n",
       "      <td>8443970</td>\n",
       "      <td>NaN</td>\n",
       "      <td>1.653</td>\n",
       "      <td>NaN</td>\n",
       "    </tr>\n",
       "    <tr>\n",
       "      <th>1901-01-01 04:00:00</th>\n",
       "      <td>8443970</td>\n",
       "      <td>NaN</td>\n",
       "      <td>0.970</td>\n",
       "      <td>NaN</td>\n",
       "    </tr>\n",
       "    <tr>\n",
       "      <th>1901-01-01 05:00:00</th>\n",
       "      <td>8443970</td>\n",
       "      <td>NaN</td>\n",
       "      <td>0.347</td>\n",
       "      <td>NaN</td>\n",
       "    </tr>\n",
       "    <tr>\n",
       "      <th>1901-01-01 06:00:00</th>\n",
       "      <td>8443970</td>\n",
       "      <td>NaN</td>\n",
       "      <td>0.048</td>\n",
       "      <td>NaN</td>\n",
       "    </tr>\n",
       "    <tr>\n",
       "      <th>1901-01-01 07:00:00</th>\n",
       "      <td>8443970</td>\n",
       "      <td>NaN</td>\n",
       "      <td>0.224</td>\n",
       "      <td>NaN</td>\n",
       "    </tr>\n",
       "    <tr>\n",
       "      <th>1901-01-01 08:00:00</th>\n",
       "      <td>8443970</td>\n",
       "      <td>NaN</td>\n",
       "      <td>0.739</td>\n",
       "      <td>NaN</td>\n",
       "    </tr>\n",
       "    <tr>\n",
       "      <th>1901-01-01 09:00:00</th>\n",
       "      <td>8443970</td>\n",
       "      <td>NaN</td>\n",
       "      <td>1.417</td>\n",
       "      <td>NaN</td>\n",
       "    </tr>\n",
       "    <tr>\n",
       "      <th>1901-01-01 10:00:00</th>\n",
       "      <td>8443970</td>\n",
       "      <td>NaN</td>\n",
       "      <td>2.182</td>\n",
       "      <td>NaN</td>\n",
       "    </tr>\n",
       "    <tr>\n",
       "      <th>1901-01-01 11:00:00</th>\n",
       "      <td>8443970</td>\n",
       "      <td>NaN</td>\n",
       "      <td>2.871</td>\n",
       "      <td>NaN</td>\n",
       "    </tr>\n",
       "    <tr>\n",
       "      <th>1901-01-01 12:00:00</th>\n",
       "      <td>8443970</td>\n",
       "      <td>NaN</td>\n",
       "      <td>3.252</td>\n",
       "      <td>NaN</td>\n",
       "    </tr>\n",
       "    <tr>\n",
       "      <th>1901-01-01 13:00:00</th>\n",
       "      <td>8443970</td>\n",
       "      <td>NaN</td>\n",
       "      <td>3.230</td>\n",
       "      <td>NaN</td>\n",
       "    </tr>\n",
       "    <tr>\n",
       "      <th>1901-01-01 14:00:00</th>\n",
       "      <td>8443970</td>\n",
       "      <td>NaN</td>\n",
       "      <td>2.859</td>\n",
       "      <td>NaN</td>\n",
       "    </tr>\n",
       "    <tr>\n",
       "      <th>1901-01-01 15:00:00</th>\n",
       "      <td>8443970</td>\n",
       "      <td>NaN</td>\n",
       "      <td>2.246</td>\n",
       "      <td>NaN</td>\n",
       "    </tr>\n",
       "    <tr>\n",
       "      <th>1901-01-01 16:00:00</th>\n",
       "      <td>8443970</td>\n",
       "      <td>NaN</td>\n",
       "      <td>1.482</td>\n",
       "      <td>NaN</td>\n",
       "    </tr>\n",
       "    <tr>\n",
       "      <th>1901-01-01 17:00:00</th>\n",
       "      <td>8443970</td>\n",
       "      <td>NaN</td>\n",
       "      <td>0.670</td>\n",
       "      <td>NaN</td>\n",
       "    </tr>\n",
       "    <tr>\n",
       "      <th>1901-01-01 18:00:00</th>\n",
       "      <td>8443970</td>\n",
       "      <td>NaN</td>\n",
       "      <td>0.040</td>\n",
       "      <td>NaN</td>\n",
       "    </tr>\n",
       "    <tr>\n",
       "      <th>1901-01-01 19:00:00</th>\n",
       "      <td>8443970</td>\n",
       "      <td>NaN</td>\n",
       "      <td>-0.150</td>\n",
       "      <td>NaN</td>\n",
       "    </tr>\n",
       "    <tr>\n",
       "      <th>1901-01-01 20:00:00</th>\n",
       "      <td>8443970</td>\n",
       "      <td>NaN</td>\n",
       "      <td>0.101</td>\n",
       "      <td>NaN</td>\n",
       "    </tr>\n",
       "    <tr>\n",
       "      <th>1901-01-01 21:00:00</th>\n",
       "      <td>8443970</td>\n",
       "      <td>NaN</td>\n",
       "      <td>0.613</td>\n",
       "      <td>NaN</td>\n",
       "    </tr>\n",
       "    <tr>\n",
       "      <th>1901-01-01 22:00:00</th>\n",
       "      <td>8443970</td>\n",
       "      <td>NaN</td>\n",
       "      <td>1.296</td>\n",
       "      <td>NaN</td>\n",
       "    </tr>\n",
       "    <tr>\n",
       "      <th>1901-01-01 23:00:00</th>\n",
       "      <td>8443970</td>\n",
       "      <td>NaN</td>\n",
       "      <td>2.047</td>\n",
       "      <td>NaN</td>\n",
       "    </tr>\n",
       "    <tr>\n",
       "      <th>1901-01-02 00:00:00</th>\n",
       "      <td>8443970</td>\n",
       "      <td>NaN</td>\n",
       "      <td>2.629</td>\n",
       "      <td>NaN</td>\n",
       "    </tr>\n",
       "    <tr>\n",
       "      <th>1901-01-02 01:00:00</th>\n",
       "      <td>8443970</td>\n",
       "      <td>NaN</td>\n",
       "      <td>2.859</td>\n",
       "      <td>NaN</td>\n",
       "    </tr>\n",
       "    <tr>\n",
       "      <th>1901-01-02 02:00:00</th>\n",
       "      <td>8443970</td>\n",
       "      <td>NaN</td>\n",
       "      <td>2.724</td>\n",
       "      <td>NaN</td>\n",
       "    </tr>\n",
       "    <tr>\n",
       "      <th>1901-01-02 03:00:00</th>\n",
       "      <td>8443970</td>\n",
       "      <td>NaN</td>\n",
       "      <td>2.305</td>\n",
       "      <td>NaN</td>\n",
       "    </tr>\n",
       "    <tr>\n",
       "      <th>1901-01-02 04:00:00</th>\n",
       "      <td>8443970</td>\n",
       "      <td>NaN</td>\n",
       "      <td>1.696</td>\n",
       "      <td>NaN</td>\n",
       "    </tr>\n",
       "    <tr>\n",
       "      <th>1901-01-02 05:00:00</th>\n",
       "      <td>8443970</td>\n",
       "      <td>NaN</td>\n",
       "      <td>0.981</td>\n",
       "      <td>NaN</td>\n",
       "    </tr>\n",
       "    <tr>\n",
       "      <th>...</th>\n",
       "      <td>...</td>\n",
       "      <td>...</td>\n",
       "      <td>...</td>\n",
       "      <td>...</td>\n",
       "    </tr>\n",
       "    <tr>\n",
       "      <th>2017-12-30 18:00:00</th>\n",
       "      <td>8443970</td>\n",
       "      <td>0.457</td>\n",
       "      <td>0.360</td>\n",
       "      <td>0.457</td>\n",
       "    </tr>\n",
       "    <tr>\n",
       "      <th>2017-12-30 19:00:00</th>\n",
       "      <td>8443970</td>\n",
       "      <td>-0.002</td>\n",
       "      <td>-0.169</td>\n",
       "      <td>-0.002</td>\n",
       "    </tr>\n",
       "    <tr>\n",
       "      <th>2017-12-30 20:00:00</th>\n",
       "      <td>8443970</td>\n",
       "      <td>0.085</td>\n",
       "      <td>-0.212</td>\n",
       "      <td>0.085</td>\n",
       "    </tr>\n",
       "    <tr>\n",
       "      <th>2017-12-30 21:00:00</th>\n",
       "      <td>8443970</td>\n",
       "      <td>0.444</td>\n",
       "      <td>0.220</td>\n",
       "      <td>0.444</td>\n",
       "    </tr>\n",
       "    <tr>\n",
       "      <th>2017-12-30 22:00:00</th>\n",
       "      <td>8443970</td>\n",
       "      <td>1.054</td>\n",
       "      <td>0.888</td>\n",
       "      <td>1.054</td>\n",
       "    </tr>\n",
       "    <tr>\n",
       "      <th>2017-12-30 23:00:00</th>\n",
       "      <td>8443970</td>\n",
       "      <td>1.841</td>\n",
       "      <td>1.641</td>\n",
       "      <td>1.841</td>\n",
       "    </tr>\n",
       "    <tr>\n",
       "      <th>2017-12-31 00:00:00</th>\n",
       "      <td>8443970</td>\n",
       "      <td>2.541</td>\n",
       "      <td>2.379</td>\n",
       "      <td>2.541</td>\n",
       "    </tr>\n",
       "    <tr>\n",
       "      <th>2017-12-31 01:00:00</th>\n",
       "      <td>8443970</td>\n",
       "      <td>3.032</td>\n",
       "      <td>2.888</td>\n",
       "      <td>3.032</td>\n",
       "    </tr>\n",
       "    <tr>\n",
       "      <th>2017-12-31 02:00:00</th>\n",
       "      <td>8443970</td>\n",
       "      <td>3.036</td>\n",
       "      <td>2.990</td>\n",
       "      <td>3.036</td>\n",
       "    </tr>\n",
       "    <tr>\n",
       "      <th>2017-12-31 03:00:00</th>\n",
       "      <td>8443970</td>\n",
       "      <td>2.716</td>\n",
       "      <td>2.692</td>\n",
       "      <td>2.716</td>\n",
       "    </tr>\n",
       "    <tr>\n",
       "      <th>2017-12-31 04:00:00</th>\n",
       "      <td>8443970</td>\n",
       "      <td>2.182</td>\n",
       "      <td>2.112</td>\n",
       "      <td>2.182</td>\n",
       "    </tr>\n",
       "    <tr>\n",
       "      <th>2017-12-31 05:00:00</th>\n",
       "      <td>8443970</td>\n",
       "      <td>1.433</td>\n",
       "      <td>1.392</td>\n",
       "      <td>1.433</td>\n",
       "    </tr>\n",
       "    <tr>\n",
       "      <th>2017-12-31 06:00:00</th>\n",
       "      <td>8443970</td>\n",
       "      <td>0.727</td>\n",
       "      <td>0.651</td>\n",
       "      <td>0.727</td>\n",
       "    </tr>\n",
       "    <tr>\n",
       "      <th>2017-12-31 07:00:00</th>\n",
       "      <td>8443970</td>\n",
       "      <td>0.168</td>\n",
       "      <td>0.059</td>\n",
       "      <td>0.168</td>\n",
       "    </tr>\n",
       "    <tr>\n",
       "      <th>2017-12-31 08:00:00</th>\n",
       "      <td>8443970</td>\n",
       "      <td>0.071</td>\n",
       "      <td>-0.116</td>\n",
       "      <td>0.071</td>\n",
       "    </tr>\n",
       "    <tr>\n",
       "      <th>2017-12-31 09:00:00</th>\n",
       "      <td>8443970</td>\n",
       "      <td>0.476</td>\n",
       "      <td>0.248</td>\n",
       "      <td>0.476</td>\n",
       "    </tr>\n",
       "    <tr>\n",
       "      <th>2017-12-31 10:00:00</th>\n",
       "      <td>8443970</td>\n",
       "      <td>1.098</td>\n",
       "      <td>0.958</td>\n",
       "      <td>1.098</td>\n",
       "    </tr>\n",
       "    <tr>\n",
       "      <th>2017-12-31 11:00:00</th>\n",
       "      <td>8443970</td>\n",
       "      <td>1.890</td>\n",
       "      <td>1.784</td>\n",
       "      <td>1.890</td>\n",
       "    </tr>\n",
       "    <tr>\n",
       "      <th>2017-12-31 12:00:00</th>\n",
       "      <td>8443970</td>\n",
       "      <td>2.661</td>\n",
       "      <td>2.613</td>\n",
       "      <td>2.661</td>\n",
       "    </tr>\n",
       "    <tr>\n",
       "      <th>2017-12-31 13:00:00</th>\n",
       "      <td>8443970</td>\n",
       "      <td>3.245</td>\n",
       "      <td>3.266</td>\n",
       "      <td>3.245</td>\n",
       "    </tr>\n",
       "    <tr>\n",
       "      <th>2017-12-31 14:00:00</th>\n",
       "      <td>8443970</td>\n",
       "      <td>3.424</td>\n",
       "      <td>3.519</td>\n",
       "      <td>3.424</td>\n",
       "    </tr>\n",
       "    <tr>\n",
       "      <th>2017-12-31 15:00:00</th>\n",
       "      <td>8443970</td>\n",
       "      <td>3.168</td>\n",
       "      <td>3.308</td>\n",
       "      <td>3.168</td>\n",
       "    </tr>\n",
       "    <tr>\n",
       "      <th>2017-12-31 16:00:00</th>\n",
       "      <td>8443970</td>\n",
       "      <td>2.547</td>\n",
       "      <td>2.724</td>\n",
       "      <td>2.547</td>\n",
       "    </tr>\n",
       "    <tr>\n",
       "      <th>2017-12-31 17:00:00</th>\n",
       "      <td>8443970</td>\n",
       "      <td>1.826</td>\n",
       "      <td>1.914</td>\n",
       "      <td>1.826</td>\n",
       "    </tr>\n",
       "    <tr>\n",
       "      <th>2017-12-31 18:00:00</th>\n",
       "      <td>8443970</td>\n",
       "      <td>0.961</td>\n",
       "      <td>1.015</td>\n",
       "      <td>0.961</td>\n",
       "    </tr>\n",
       "    <tr>\n",
       "      <th>2017-12-31 19:00:00</th>\n",
       "      <td>8443970</td>\n",
       "      <td>0.167</td>\n",
       "      <td>0.167</td>\n",
       "      <td>0.167</td>\n",
       "    </tr>\n",
       "    <tr>\n",
       "      <th>2017-12-31 20:00:00</th>\n",
       "      <td>8443970</td>\n",
       "      <td>-0.340</td>\n",
       "      <td>-0.376</td>\n",
       "      <td>-0.340</td>\n",
       "    </tr>\n",
       "    <tr>\n",
       "      <th>2017-12-31 21:00:00</th>\n",
       "      <td>8443970</td>\n",
       "      <td>-0.342</td>\n",
       "      <td>-0.373</td>\n",
       "      <td>-0.342</td>\n",
       "    </tr>\n",
       "    <tr>\n",
       "      <th>2017-12-31 22:00:00</th>\n",
       "      <td>8443970</td>\n",
       "      <td>0.198</td>\n",
       "      <td>0.120</td>\n",
       "      <td>0.198</td>\n",
       "    </tr>\n",
       "    <tr>\n",
       "      <th>2017-12-31 23:00:00</th>\n",
       "      <td>8443970</td>\n",
       "      <td>0.879</td>\n",
       "      <td>0.856</td>\n",
       "      <td>0.879</td>\n",
       "    </tr>\n",
       "  </tbody>\n",
       "</table>\n",
       "<p>1025616 rows × 4 columns</p>\n",
       "</div>"
      ],
      "text/plain": [
       "                      stn_id  observed  predicted  residual\n",
       "dtime                                                      \n",
       "1901-01-01 00:00:00  8443970       NaN      2.845       NaN\n",
       "1901-01-01 01:00:00  8443970       NaN      2.689       NaN\n",
       "1901-01-01 02:00:00  8443970       NaN      2.256       NaN\n",
       "1901-01-01 03:00:00  8443970       NaN      1.653       NaN\n",
       "1901-01-01 04:00:00  8443970       NaN      0.970       NaN\n",
       "1901-01-01 05:00:00  8443970       NaN      0.347       NaN\n",
       "1901-01-01 06:00:00  8443970       NaN      0.048       NaN\n",
       "1901-01-01 07:00:00  8443970       NaN      0.224       NaN\n",
       "1901-01-01 08:00:00  8443970       NaN      0.739       NaN\n",
       "1901-01-01 09:00:00  8443970       NaN      1.417       NaN\n",
       "1901-01-01 10:00:00  8443970       NaN      2.182       NaN\n",
       "1901-01-01 11:00:00  8443970       NaN      2.871       NaN\n",
       "1901-01-01 12:00:00  8443970       NaN      3.252       NaN\n",
       "1901-01-01 13:00:00  8443970       NaN      3.230       NaN\n",
       "1901-01-01 14:00:00  8443970       NaN      2.859       NaN\n",
       "1901-01-01 15:00:00  8443970       NaN      2.246       NaN\n",
       "1901-01-01 16:00:00  8443970       NaN      1.482       NaN\n",
       "1901-01-01 17:00:00  8443970       NaN      0.670       NaN\n",
       "1901-01-01 18:00:00  8443970       NaN      0.040       NaN\n",
       "1901-01-01 19:00:00  8443970       NaN     -0.150       NaN\n",
       "1901-01-01 20:00:00  8443970       NaN      0.101       NaN\n",
       "1901-01-01 21:00:00  8443970       NaN      0.613       NaN\n",
       "1901-01-01 22:00:00  8443970       NaN      1.296       NaN\n",
       "1901-01-01 23:00:00  8443970       NaN      2.047       NaN\n",
       "1901-01-02 00:00:00  8443970       NaN      2.629       NaN\n",
       "1901-01-02 01:00:00  8443970       NaN      2.859       NaN\n",
       "1901-01-02 02:00:00  8443970       NaN      2.724       NaN\n",
       "1901-01-02 03:00:00  8443970       NaN      2.305       NaN\n",
       "1901-01-02 04:00:00  8443970       NaN      1.696       NaN\n",
       "1901-01-02 05:00:00  8443970       NaN      0.981       NaN\n",
       "...                      ...       ...        ...       ...\n",
       "2017-12-30 18:00:00  8443970     0.457      0.360     0.457\n",
       "2017-12-30 19:00:00  8443970    -0.002     -0.169    -0.002\n",
       "2017-12-30 20:00:00  8443970     0.085     -0.212     0.085\n",
       "2017-12-30 21:00:00  8443970     0.444      0.220     0.444\n",
       "2017-12-30 22:00:00  8443970     1.054      0.888     1.054\n",
       "2017-12-30 23:00:00  8443970     1.841      1.641     1.841\n",
       "2017-12-31 00:00:00  8443970     2.541      2.379     2.541\n",
       "2017-12-31 01:00:00  8443970     3.032      2.888     3.032\n",
       "2017-12-31 02:00:00  8443970     3.036      2.990     3.036\n",
       "2017-12-31 03:00:00  8443970     2.716      2.692     2.716\n",
       "2017-12-31 04:00:00  8443970     2.182      2.112     2.182\n",
       "2017-12-31 05:00:00  8443970     1.433      1.392     1.433\n",
       "2017-12-31 06:00:00  8443970     0.727      0.651     0.727\n",
       "2017-12-31 07:00:00  8443970     0.168      0.059     0.168\n",
       "2017-12-31 08:00:00  8443970     0.071     -0.116     0.071\n",
       "2017-12-31 09:00:00  8443970     0.476      0.248     0.476\n",
       "2017-12-31 10:00:00  8443970     1.098      0.958     1.098\n",
       "2017-12-31 11:00:00  8443970     1.890      1.784     1.890\n",
       "2017-12-31 12:00:00  8443970     2.661      2.613     2.661\n",
       "2017-12-31 13:00:00  8443970     3.245      3.266     3.245\n",
       "2017-12-31 14:00:00  8443970     3.424      3.519     3.424\n",
       "2017-12-31 15:00:00  8443970     3.168      3.308     3.168\n",
       "2017-12-31 16:00:00  8443970     2.547      2.724     2.547\n",
       "2017-12-31 17:00:00  8443970     1.826      1.914     1.826\n",
       "2017-12-31 18:00:00  8443970     0.961      1.015     0.961\n",
       "2017-12-31 19:00:00  8443970     0.167      0.167     0.167\n",
       "2017-12-31 20:00:00  8443970    -0.340     -0.376    -0.340\n",
       "2017-12-31 21:00:00  8443970    -0.342     -0.373    -0.342\n",
       "2017-12-31 22:00:00  8443970     0.198      0.120     0.198\n",
       "2017-12-31 23:00:00  8443970     0.879      0.856     0.879\n",
       "\n",
       "[1025616 rows x 4 columns]"
      ]
     },
     "execution_count": 6,
     "metadata": {},
     "output_type": "execute_result"
    }
   ],
   "source": [
    "df_boston"
   ]
  },
  {
   "cell_type": "markdown",
   "metadata": {},
   "source": [
    "### Calculate and Visualize Monthly Averages"
   ]
  },
  {
   "cell_type": "code",
   "execution_count": 7,
   "metadata": {},
   "outputs": [],
   "source": [
    "# make a monthly averages dataframe from the observed data\n",
    "monthly_avg=df_boston['observed'].resample('M').mean()\n",
    "df_monthly=pd.DataFrame(monthly_avg,index=monthly_avg.index.values)\n",
    "df_monthly.columns = [boston_id]"
   ]
  },
  {
   "cell_type": "code",
   "execution_count": 8,
   "metadata": {},
   "outputs": [],
   "source": [
    "# get a numerical grid for datetime\n",
    "start_date = date(1901, 1, 31)\n",
    "\n",
    "# assuming your list is named my_date_list\n",
    "time_grid = df_boston.index.values.astype(float)"
   ]
  },
  {
   "cell_type": "code",
   "execution_count": 9,
   "metadata": {},
   "outputs": [],
   "source": [
    "time_grid=np.linspace(1901,2018-(1/12),num=(2017-1901+1)*12)"
   ]
  },
  {
   "cell_type": "code",
   "execution_count": 10,
   "metadata": {},
   "outputs": [
    {
     "data": {
      "image/png": "[encoded data removed]",
      "text/plain": [
       "<Figure size 720x288 with 1 Axes>"
      ]
     },
     "metadata": {},
     "output_type": "display_data"
    }
   ],
   "source": [
    "monthly_fig=plt.figure(figsize=(10, 4))\n",
    "plt.plot(time_grid,df_monthly[boston_id]*1000,lw=0.3,marker='o',markersize=3,color='b',markerfacecolor='b',markeredgecolor='b')\n",
    "plt.xlabel('Year')\n",
    "plt.ylabel('Sea Level (mm, Relative to MLLW Datum)')\n",
    "plt.title('Boston (#8443970) Tide Gauge Monthly Water Levels')\n",
    "plt.xticks(np.linspace(1920,2020,11))\n",
    "plt.show()"
   ]
  },
  {
   "cell_type": "markdown",
   "metadata": {},
   "source": [
    "Compare with the official monthly dataset (https://www.psmsl.org/data/obtaining/stations/235.php):"
   ]
  },
  {
   "cell_type": "markdown",
   "metadata": {},
   "source": [
    "![title](https://www.psmsl.org/data/obtaining/rlr.monthly.plots/235_high.png)"
   ]
  },
  {
   "cell_type": "markdown",
   "metadata": {},
   "source": [
    "It clearly looks very similar, but there are some differences too.\n",
    "Note also that the \"datum\" is different between these two datasets."
   ]
  },
  {
   "cell_type": "markdown",
   "metadata": {},
   "source": [
    "### Calculate simple trend over period"
   ]
  },
  {
   "cell_type": "code",
   "execution_count": 11,
   "metadata": {},
   "outputs": [],
   "source": [
    "# find the locations which are not NaNs\n",
    "idx = np.isfinite(df_monthly[boston_id])\n",
    "# calculate the trends\n",
    "x=time_grid[np.asarray(idx[:])]\n",
    "y=df_monthly[boston_id][idx]\n",
    "z = np.polyfit(x,y,deg=1)"
   ]
  },
  {
   "cell_type": "code",
   "execution_count": 15,
   "metadata": {},
   "outputs": [
    {
     "data": {
      "text/plain": [
       "array([  2.79239949e-03,  -3.96005759e+00])"
      ]
     },
     "execution_count": 15,
     "metadata": {},
     "output_type": "execute_result"
    }
   ],
   "source": [
    "z"
   ]
  },
  {
   "cell_type": "code",
   "execution_count": 17,
   "metadata": {},
   "outputs": [
    {
     "name": "stdout",
     "output_type": "stream",
     "text": [
      "31.250000000000007\n"
     ]
    },
    {
     "data": {
      "text/plain": [
       "27.923994896630802"
      ]
     },
     "execution_count": 17,
     "metadata": {},
     "output_type": "execute_result"
    }
   ],
   "source": [
    "# first guess (difference/length of years)*10 years/1 decade*1000mm/1m:\n",
    "guess_trend=(1.7-1.4)/(2017-1921)*10*1000\n",
    "print(guess_trend)\n",
    "\n",
    "# convert units of optimal trend from best fit, from meter/year to mm/decade\n",
    "z[0]*10*1000"
   ]
  },
  {
   "cell_type": "markdown",
   "metadata": {},
   "source": [
    "The first guess trend looks okay, but is not exact. It is an overestimate."
   ]
  },
  {
   "cell_type": "markdown",
   "metadata": {},
   "source": [
    "### Calculate Seasonal Cycle"
   ]
  },
  {
   "cell_type": "code",
   "execution_count": 18,
   "metadata": {},
   "outputs": [],
   "source": [
    "df_monthly['mon'] = df_monthly.index.month\n",
    "df_seas = df_monthly['1950':'2013'].groupby('mon').aggregate('mean')"
   ]
  },
  {
   "cell_type": "code",
   "execution_count": 19,
   "metadata": {},
   "outputs": [
    {
     "data": {
      "image/png": "[encoded data removed]",
      "text/plain": [
       "<Figure size 432x288 with 1 Axes>"
      ]
     },
     "metadata": {},
     "output_type": "display_data"
    }
   ],
   "source": [
    "seas_cycle_conventional=plt.figure()\n",
    "plt.plot(df_seas-np.mean(df_seas),lw=3)\n",
    "plt.title('Boston Water Level Conventional Seasonal Cycle (m)')\n",
    "plt.xlabel('Month')\n",
    "plt.ylabel('Monthly Anomalous Water Level (m)')\n",
    "plt.xlim([1,12])\n",
    "plt.ylim([-0.05,0.05])\n",
    "plt.xticks(np.arange(12)+1, ('J','F','M','A','M','J','J','A','S','O','N','D'))\n",
    "plt.grid()\n",
    "plt.show()"
   ]
  },
  {
   "cell_type": "markdown",
   "metadata": {},
   "source": [
    "# GP Regression"
   ]
  },
  {
   "cell_type": "code",
   "execution_count": 20,
   "metadata": {},
   "outputs": [],
   "source": [
    "# choose years\n",
    "start_year=1988\n",
    "end_year=np.floor(time_grid[-1])\n",
    "nyears=int(end_year-start_year+1)"
   ]
  },
  {
   "cell_type": "code",
   "execution_count": 21,
   "metadata": {},
   "outputs": [
    {
     "data": {
      "text/plain": [
       "30"
      ]
     },
     "execution_count": 21,
     "metadata": {},
     "output_type": "execute_result"
    }
   ],
   "source": [
    "nyears"
   ]
  },
  {
   "cell_type": "code",
   "execution_count": 22,
   "metadata": {},
   "outputs": [],
   "source": [
    "# conditon the data and grid, taking data over the years requested\n",
    "X_train_mediate=np.asarray(time_grid[-12*nyears:],dtype='float64')\n",
    "Y_train_mediate=np.asarray(df_monthly[boston_id][-12*nyears:],dtype='float64')\n",
    "# remove nans if we have them\n",
    "Y_train=Y_train_mediate[np.logical_not(np.isnan(Y_train_mediate))]\n",
    "X_train=X_train_mediate[np.logical_not(np.isnan(Y_train_mediate))]"
   ]
  },
  {
   "cell_type": "code",
   "execution_count": 23,
   "metadata": {
    "scrolled": true
   },
   "outputs": [
    {
     "data": {
      "text/plain": [
       "(360,)"
      ]
     },
     "execution_count": 23,
     "metadata": {},
     "output_type": "execute_result"
    }
   ],
   "source": [
    "np.shape(Y_train)"
   ]
  },
  {
   "cell_type": "markdown",
   "metadata": {},
   "source": [
    "### Define the Sample Grid"
   ]
  },
  {
   "cell_type": "code",
   "execution_count": 24,
   "metadata": {},
   "outputs": [],
   "source": [
    "#define the sample grid\n",
    "n_samples=10000\n",
    "X_sample=np.linspace(start_year,2018-1/12,n_samples).reshape((n_samples,1))"
   ]
  },
  {
   "cell_type": "markdown",
   "metadata": {},
   "source": [
    "### Plot the Training Data"
   ]
  },
  {
   "cell_type": "code",
   "execution_count": 25,
   "metadata": {},
   "outputs": [
    {
     "data": {
      "image/png": "[encoded data removed]",
      "text/plain": [
       "<Figure size 432x288 with 1 Axes>"
      ]
     },
     "metadata": {},
     "output_type": "display_data"
    }
   ],
   "source": [
    "training_ts=plt.figure()\n",
    "plt.plot(X_train,Y_train,'bo')\n",
    "plt.xlabel('Year')\n",
    "plt.ylabel('Sea Level (m)')\n",
    "plt.xlim([1987,2018])\n",
    "plt.ylim([1.3,1.9])\n",
    "#plt.ylim([-0.25,0.25])\n",
    "plt.title('Observed Boston Sea Levels (m)')\n",
    "plt.legend(('Observed','GP Mean','2$\\sigma$'),loc='lower right')\n",
    "plt.grid()\n",
    "plt.show()"
   ]
  },
  {
   "cell_type": "markdown",
   "metadata": {},
   "source": [
    "### Too Smooth Covariance Structure (RBF)"
   ]
  },
  {
   "cell_type": "code",
   "execution_count": 27,
   "metadata": {},
   "outputs": [
    {
     "name": "stderr",
     "output_type": "stream",
     "text": [
      "WARNING:gpflow.logdensities:Shape of x must be 2D at computation.\n"
     ]
    },
    {
     "name": "stdout",
     "output_type": "stream",
     "text": [
      "INFO:tensorflow:Optimization terminated with:\n",
      "  Message: b'CONVERGENCE: REL_REDUCTION_OF_F_<=_FACTR*EPSMCH'\n",
      "  Objective function value: -493.537443\n",
      "  Number of iterations: 15\n",
      "  Number of functions evaluations: 22\n"
     ]
    },
    {
     "name": "stderr",
     "output_type": "stream",
     "text": [
      "INFO:tensorflow:Optimization terminated with:\n",
      "  Message: b'CONVERGENCE: REL_REDUCTION_OF_F_<=_FACTR*EPSMCH'\n",
      "  Objective function value: -493.537443\n",
      "  Number of iterations: 15\n",
      "  Number of functions evaluations: 22\n"
     ]
    },
    {
     "name": "stdout",
     "output_type": "stream",
     "text": [
      "0:00:01.298456\n"
     ]
    }
   ],
   "source": [
    "# start the time\n",
    "startTime = datetime.now()\n",
    "\n",
    "# define the training covariance function\n",
    "k=gpflow.kernels.RBF(1)\n",
    "\n",
    "# create the model\n",
    "m = gpflow.models.GPR(X_train.reshape(len(X_train),1), Y_train.reshape(len(X_train),1), kern=k)\n",
    "\n",
    "#train the model\n",
    "m.compile()\n",
    "opt = gpflow.train.ScipyOptimizer()\n",
    "opt.minimize(m)\n",
    "\n",
    "#Print how long it took\n",
    "print(datetime.now() - startTime)"
   ]
  },
  {
   "cell_type": "code",
   "execution_count": 28,
   "metadata": {},
   "outputs": [
    {
     "data": {
      "text/html": [
       "<div>\n",
       "<style>\n",
       "    .dataframe thead tr:only-child th {\n",
       "        text-align: right;\n",
       "    }\n",
       "\n",
       "    .dataframe thead th {\n",
       "        text-align: left;\n",
       "    }\n",
       "\n",
       "    .dataframe tbody tr th {\n",
       "        vertical-align: top;\n",
       "    }\n",
       "</style>\n",
       "<table border=\"1\" class=\"dataframe\">\n",
       "  <thead>\n",
       "    <tr style=\"text-align: right;\">\n",
       "      <th></th>\n",
       "      <th>class</th>\n",
       "      <th>prior</th>\n",
       "      <th>transform</th>\n",
       "      <th>trainable</th>\n",
       "      <th>shape</th>\n",
       "      <th>fixed_shape</th>\n",
       "      <th>value</th>\n",
       "    </tr>\n",
       "  </thead>\n",
       "  <tbody>\n",
       "    <tr>\n",
       "      <th>GPR/kern/lengthscales</th>\n",
       "      <td>Parameter</td>\n",
       "      <td>None</td>\n",
       "      <td>+ve</td>\n",
       "      <td>True</td>\n",
       "      <td>()</td>\n",
       "      <td>True</td>\n",
       "      <td>4.440536167749865</td>\n",
       "    </tr>\n",
       "    <tr>\n",
       "      <th>GPR/kern/variance</th>\n",
       "      <td>Parameter</td>\n",
       "      <td>None</td>\n",
       "      <td>+ve</td>\n",
       "      <td>True</td>\n",
       "      <td>()</td>\n",
       "      <td>True</td>\n",
       "      <td>1.293289378293255</td>\n",
       "    </tr>\n",
       "    <tr>\n",
       "      <th>GPR/likelihood/variance</th>\n",
       "      <td>Parameter</td>\n",
       "      <td>None</td>\n",
       "      <td>+ve</td>\n",
       "      <td>True</td>\n",
       "      <td>()</td>\n",
       "      <td>True</td>\n",
       "      <td>0.002969044101436373</td>\n",
       "    </tr>\n",
       "  </tbody>\n",
       "</table>\n",
       "</div>"
      ],
      "text/plain": [
       "                             class prior transform  trainable shape  \\\n",
       "GPR/kern/lengthscales    Parameter  None       +ve       True    ()   \n",
       "GPR/kern/variance        Parameter  None       +ve       True    ()   \n",
       "GPR/likelihood/variance  Parameter  None       +ve       True    ()   \n",
       "\n",
       "                         fixed_shape                 value  \n",
       "GPR/kern/lengthscales           True     4.440536167749865  \n",
       "GPR/kern/variance               True     1.293289378293255  \n",
       "GPR/likelihood/variance         True  0.002969044101436373  "
      ]
     },
     "execution_count": 28,
     "metadata": {},
     "output_type": "execute_result"
    }
   ],
   "source": [
    "m.as_pandas_table()"
   ]
  },
  {
   "cell_type": "code",
   "execution_count": 29,
   "metadata": {},
   "outputs": [],
   "source": [
    "# get model outputs along sample grid\n",
    "Y_mean,Y_var=m.predict_y(X_sample)"
   ]
  },
  {
   "cell_type": "code",
   "execution_count": 30,
   "metadata": {},
   "outputs": [
    {
     "data": {
      "image/png": "[encoded data removed]",
      "text/plain": [
       "<Figure size 432x288 with 1 Axes>"
      ]
     },
     "metadata": {},
     "output_type": "display_data"
    }
   ],
   "source": [
    "gp_smooth_ts=plt.figure()\n",
    "plt.plot(X_train,Y_train,'bo')\n",
    "plt.plot(X_sample,Y_mean,'k',lw=2)\n",
    "plt.fill_between(X_sample[:,0], Y_mean[:,0] - 2*np.sqrt(Y_var[:,0]), Y_mean[:,0] + 2*np.sqrt(Y_var[:,0]), color='b', alpha=0.2)\n",
    "plt.xlabel('Year')\n",
    "plt.ylabel('Sea Level (m)')\n",
    "plt.xlim([1987,2018])\n",
    "plt.ylim([1.3,1.9])\n",
    "#plt.ylim([-0.25,0.25])\n",
    "plt.title('Smooth GP Regression Boston Sea Levels (m)')\n",
    "plt.legend(('Observed','Smooth GP Mean','2$\\sigma$'),loc='best')\n",
    "plt.grid()\n",
    "plt.show()"
   ]
  },
  {
   "cell_type": "code",
   "execution_count": 31,
   "metadata": {},
   "outputs": [
    {
     "data": {
      "image/png": "[encoded data removed]",
      "text/plain": [
       "<Figure size 432x288 with 1 Axes>"
      ]
     },
     "metadata": {},
     "output_type": "display_data"
    }
   ],
   "source": [
    "# check to see how well the fit performs\n",
    "m_fit_range_e=train_data_fit(m,X_train.reshape(len(X_train),1),Y_train.reshape(len(Y_train),1))"
   ]
  },
  {
   "cell_type": "markdown",
   "metadata": {},
   "source": [
    "### Bob's Covariance Structure"
   ]
  },
  {
   "cell_type": "markdown",
   "metadata": {},
   "source": [
    "k=@(t1,t2,dt1t2,thetas,dy1y2,fp1fp2) kDP(t1,t2,thetas(1)) + kMat3(dt1t2,thetas(2:3)) + kSIN(dt1t2,[thetas(4) 1 thetas(5)]) +kCONST(thetas(6));"
   ]
  },
  {
   "cell_type": "code",
   "execution_count": 32,
   "metadata": {},
   "outputs": [],
   "source": [
    "k_bob=gpflow.kernels.Linear(1) \\\n",
    "        + gpflow.kernels.Matern32(1) \\\n",
    "        + gpflow.kernels.Periodic(1) \\\n",
    "        + gpflow.kernels.Constant(1) \\"
   ]
  },
  {
   "cell_type": "code",
   "execution_count": 33,
   "metadata": {},
   "outputs": [
    {
     "name": "stderr",
     "output_type": "stream",
     "text": [
      "WARNING:gpflow.logdensities:Shape of x must be 2D at computation.\n"
     ]
    },
    {
     "name": "stdout",
     "output_type": "stream",
     "text": [
      "INFO:tensorflow:Optimization terminated with:\n",
      "  Message: b'ABNORMAL_TERMINATION_IN_LNSRCH'\n",
      "  Objective function value: -577.906639\n",
      "  Number of iterations: 33\n",
      "  Number of functions evaluations: 90\n"
     ]
    },
    {
     "name": "stderr",
     "output_type": "stream",
     "text": [
      "INFO:tensorflow:Optimization terminated with:\n",
      "  Message: b'ABNORMAL_TERMINATION_IN_LNSRCH'\n",
      "  Objective function value: -577.906639\n",
      "  Number of iterations: 33\n",
      "  Number of functions evaluations: 90\n"
     ]
    },
    {
     "name": "stdout",
     "output_type": "stream",
     "text": [
      "0:00:04.565439\n"
     ]
    }
   ],
   "source": [
    "# start the time\n",
    "startTime = datetime.now()\n",
    "\n",
    "# create the model\n",
    "m = gpflow.models.GPR(X_train.reshape(len(X_train),1), Y_train.reshape(len(X_train),1), kern=k_bob)\n",
    "#m.kern.kernels[2].period=1.0004912144828033\n",
    "#m.kern.kernels[2].period.trainable=False\n",
    "\n",
    "#train the model\n",
    "m.compile()\n",
    "opt = gpflow.train.ScipyOptimizer()\n",
    "opt.minimize(m)\n",
    "\n",
    "#Print how long it took\n",
    "print(datetime.now() - startTime)"
   ]
  },
  {
   "cell_type": "code",
   "execution_count": 34,
   "metadata": {},
   "outputs": [
    {
     "data": {
      "text/html": [
       "<div>\n",
       "<style>\n",
       "    .dataframe thead tr:only-child th {\n",
       "        text-align: right;\n",
       "    }\n",
       "\n",
       "    .dataframe thead th {\n",
       "        text-align: left;\n",
       "    }\n",
       "\n",
       "    .dataframe tbody tr th {\n",
       "        vertical-align: top;\n",
       "    }\n",
       "</style>\n",
       "<table border=\"1\" class=\"dataframe\">\n",
       "  <thead>\n",
       "    <tr style=\"text-align: right;\">\n",
       "      <th></th>\n",
       "      <th>class</th>\n",
       "      <th>prior</th>\n",
       "      <th>transform</th>\n",
       "      <th>trainable</th>\n",
       "      <th>shape</th>\n",
       "      <th>fixed_shape</th>\n",
       "      <th>value</th>\n",
       "    </tr>\n",
       "  </thead>\n",
       "  <tbody>\n",
       "    <tr>\n",
       "      <th>GPR/kern/kernels/0/variance</th>\n",
       "      <td>Parameter</td>\n",
       "      <td>None</td>\n",
       "      <td>+ve</td>\n",
       "      <td>True</td>\n",
       "      <td>()</td>\n",
       "      <td>True</td>\n",
       "      <td>0.8681910989439758</td>\n",
       "    </tr>\n",
       "    <tr>\n",
       "      <th>GPR/kern/kernels/1/lengthscales</th>\n",
       "      <td>Parameter</td>\n",
       "      <td>None</td>\n",
       "      <td>+ve</td>\n",
       "      <td>True</td>\n",
       "      <td>()</td>\n",
       "      <td>True</td>\n",
       "      <td>6.195773671973528</td>\n",
       "    </tr>\n",
       "    <tr>\n",
       "      <th>GPR/kern/kernels/1/variance</th>\n",
       "      <td>Parameter</td>\n",
       "      <td>None</td>\n",
       "      <td>+ve</td>\n",
       "      <td>True</td>\n",
       "      <td>()</td>\n",
       "      <td>True</td>\n",
       "      <td>0.019391437297449826</td>\n",
       "    </tr>\n",
       "    <tr>\n",
       "      <th>GPR/kern/kernels/2/lengthscales</th>\n",
       "      <td>Parameter</td>\n",
       "      <td>None</td>\n",
       "      <td>+ve</td>\n",
       "      <td>True</td>\n",
       "      <td>()</td>\n",
       "      <td>True</td>\n",
       "      <td>3.1880905900969534</td>\n",
       "    </tr>\n",
       "    <tr>\n",
       "      <th>GPR/kern/kernels/2/period</th>\n",
       "      <td>Parameter</td>\n",
       "      <td>None</td>\n",
       "      <td>+ve</td>\n",
       "      <td>True</td>\n",
       "      <td>()</td>\n",
       "      <td>True</td>\n",
       "      <td>1.0004912144828033</td>\n",
       "    </tr>\n",
       "    <tr>\n",
       "      <th>GPR/kern/kernels/2/variance</th>\n",
       "      <td>Parameter</td>\n",
       "      <td>None</td>\n",
       "      <td>+ve</td>\n",
       "      <td>True</td>\n",
       "      <td>()</td>\n",
       "      <td>True</td>\n",
       "      <td>0.4753970268745452</td>\n",
       "    </tr>\n",
       "    <tr>\n",
       "      <th>GPR/kern/kernels/3/variance</th>\n",
       "      <td>Parameter</td>\n",
       "      <td>None</td>\n",
       "      <td>+ve</td>\n",
       "      <td>True</td>\n",
       "      <td>()</td>\n",
       "      <td>True</td>\n",
       "      <td>0.999603982883255</td>\n",
       "    </tr>\n",
       "    <tr>\n",
       "      <th>GPR/likelihood/variance</th>\n",
       "      <td>Parameter</td>\n",
       "      <td>None</td>\n",
       "      <td>+ve</td>\n",
       "      <td>True</td>\n",
       "      <td>()</td>\n",
       "      <td>True</td>\n",
       "      <td>0.0017912541117148192</td>\n",
       "    </tr>\n",
       "  </tbody>\n",
       "</table>\n",
       "</div>"
      ],
      "text/plain": [
       "                                     class prior transform  trainable shape  \\\n",
       "GPR/kern/kernels/0/variance      Parameter  None       +ve       True    ()   \n",
       "GPR/kern/kernels/1/lengthscales  Parameter  None       +ve       True    ()   \n",
       "GPR/kern/kernels/1/variance      Parameter  None       +ve       True    ()   \n",
       "GPR/kern/kernels/2/lengthscales  Parameter  None       +ve       True    ()   \n",
       "GPR/kern/kernels/2/period        Parameter  None       +ve       True    ()   \n",
       "GPR/kern/kernels/2/variance      Parameter  None       +ve       True    ()   \n",
       "GPR/kern/kernels/3/variance      Parameter  None       +ve       True    ()   \n",
       "GPR/likelihood/variance          Parameter  None       +ve       True    ()   \n",
       "\n",
       "                                 fixed_shape                  value  \n",
       "GPR/kern/kernels/0/variance             True     0.8681910989439758  \n",
       "GPR/kern/kernels/1/lengthscales         True      6.195773671973528  \n",
       "GPR/kern/kernels/1/variance             True   0.019391437297449826  \n",
       "GPR/kern/kernels/2/lengthscales         True     3.1880905900969534  \n",
       "GPR/kern/kernels/2/period               True     1.0004912144828033  \n",
       "GPR/kern/kernels/2/variance             True     0.4753970268745452  \n",
       "GPR/kern/kernels/3/variance             True      0.999603982883255  \n",
       "GPR/likelihood/variance                 True  0.0017912541117148192  "
      ]
     },
     "execution_count": 34,
     "metadata": {},
     "output_type": "execute_result"
    }
   ],
   "source": [
    "m.as_pandas_table()"
   ]
  },
  {
   "cell_type": "markdown",
   "metadata": {},
   "source": [
    "## Sample from the GP model"
   ]
  },
  {
   "cell_type": "code",
   "execution_count": 35,
   "metadata": {},
   "outputs": [],
   "source": [
    "# get model outputs along sample grid\n",
    "Y_mean,Y_var=m.predict_y(X_sample)"
   ]
  },
  {
   "cell_type": "code",
   "execution_count": 36,
   "metadata": {},
   "outputs": [
    {
     "data": {
      "image/png": "[encoded data removed]",
      "text/plain": [
       "<Figure size 432x288 with 1 Axes>"
      ]
     },
     "metadata": {},
     "output_type": "display_data"
    }
   ],
   "source": [
    "gp_ts=plt.figure()\n",
    "plt.plot(X_train,Y_train,'bo')\n",
    "plt.plot(X_sample,Y_mean,'k',lw=2)\n",
    "plt.fill_between(X_sample[:,0], Y_mean[:,0] - 2*np.sqrt(Y_var[:,0]), Y_mean[:,0] + 2*np.sqrt(Y_var[:,0]), color='b', alpha=0.2)\n",
    "plt.xlabel('Year')\n",
    "plt.ylabel('Sea Level (m)')\n",
    "plt.xlim([1987,2018])\n",
    "plt.ylim([1.3,1.9])\n",
    "#plt.ylim([-0.25,0.25])\n",
    "plt.title('GP Regression Boston Sea Levels (m)')\n",
    "plt.legend(('Observed','GP Mean','2$\\sigma$'),loc='lower right')\n",
    "plt.grid()\n",
    "plt.show()"
   ]
  },
  {
   "cell_type": "code",
   "execution_count": 37,
   "metadata": {},
   "outputs": [
    {
     "data": {
      "image/png": "[encoded data removed]",
      "text/plain": [
       "<Figure size 432x288 with 1 Axes>"
      ]
     },
     "metadata": {},
     "output_type": "display_data"
    }
   ],
   "source": [
    "# check to see how well the fit performs\n",
    "m_fit_range_e=train_data_fit(m,X_train.reshape(len(X_train),1),Y_train.reshape(len(Y_train),1))"
   ]
  },
  {
   "cell_type": "code",
   "execution_count": null,
   "metadata": {},
   "outputs": [],
   "source": []
  }
 ],
 "metadata": {
  "kernelspec": {
   "display_name": "Python 3",
   "language": "python",
   "name": "python3"
  },
  "language_info": {
   "codemirror_mode": {
    "name": "ipython",
    "version": 3
   },
   "file_extension": ".py",
   "mimetype": "text/x-python",
   "name": "python",
   "nbconvert_exporter": "python",
   "pygments_lexer": "ipython3",
   "version": "3.5.2"
  }
 },
 "nbformat": 4,
 "nbformat_minor": 2
}
